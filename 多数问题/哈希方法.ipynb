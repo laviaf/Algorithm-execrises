{
 "cells": [
  {
   "cell_type": "code",
   "execution_count": 13,
   "metadata": {},
   "outputs": [
    {
     "name": "stdout",
     "output_type": "stream",
     "text": [
      "5\n",
      "1\n",
      "2\n",
      "2\n",
      "2\n",
      "5\n",
      "2\n"
     ]
    }
   ],
   "source": [
    "n = int(input())\n",
    "\n",
    "arr = [0 for i in range(n)]\n",
    "for i in range(n):\n",
    "    arr[i] = int(input())\n",
    "    \n",
    "map_dic = {}\n",
    "for i in arr:\n",
    "    if i not in map_dic.keys():\n",
    "        map_dic[i] = 1\n",
    "    else:\n",
    "        map_dic[i] += 1\n",
    "\n",
    "for key in map_dic.keys():\n",
    "    if map_dic[key] > n/2:\n",
    "        print(key)\n",
    "        break"
   ]
  }
 ],
 "metadata": {
  "kernelspec": {
   "display_name": "Python 3",
   "language": "python",
   "name": "python3"
  },
  "language_info": {
   "codemirror_mode": {
    "name": "ipython",
    "version": 3
   },
   "file_extension": ".py",
   "mimetype": "text/x-python",
   "name": "python",
   "nbconvert_exporter": "python",
   "pygments_lexer": "ipython3",
   "version": "3.7.0"
  }
 },
 "nbformat": 4,
 "nbformat_minor": 2
}
